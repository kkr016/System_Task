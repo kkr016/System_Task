{
  "nbformat": 4,
  "nbformat_minor": 0,
  "metadata": {
    "colab": {
      "provenance": [],
      "authorship_tag": "ABX9TyOUiebmiiYsyLtM7Ie/LFTO",
      "include_colab_link": true
    },
    "kernelspec": {
      "name": "python3",
      "display_name": "Python 3"
    },
    "language_info": {
      "name": "python"
    }
  },
  "cells": [
    {
      "cell_type": "markdown",
      "metadata": {
        "id": "view-in-github",
        "colab_type": "text"
      },
      "source": [
        "<a href=\"https://colab.research.google.com/github/kkr016/System_Task/blob/main/System_Task.ipynb\" target=\"_parent\"><img src=\"https://colab.research.google.com/assets/colab-badge.svg\" alt=\"Open In Colab\"/></a>"
      ]
    },
    {
      "cell_type": "code",
      "execution_count": 372,
      "metadata": {
        "colab": {
          "base_uri": "https://localhost:8080/"
        },
        "id": "_YgRz8iPRGJ3",
        "outputId": "62a31a67-449d-424b-895d-3db2865eb9e7"
      },
      "outputs": [
        {
          "name": "stdout",
          "output_type": "stream",
          "text": [
            "\n",
            "Enter A, B, C, D Co-ordinates as (x,y)\n",
            "\n",
            "Enter (x1, y1) : 1 5\n",
            "\n",
            "Enter (x2, y2) : 5 1\n",
            "\n",
            "Enter (x3, y3) : 5 5\n",
            "\n",
            "Enter (x4, y4) : 1 1\n"
          ]
        }
      ],
      "source": [
        "print(\"\\nEnter A, B, C, D Co-ordinates as (x,y)\")\n",
        "\n",
        "x1, y1 = map(int,input(\"\\nEnter (x1, y1) : \").split())\n",
        "\n",
        "x2, y2 = map(int,input(\"\\nEnter (x2, y2) : \").split())\n",
        "\n",
        "x3, y3 = map(int,input(\"\\nEnter (x3, y3) : \").split())\n",
        "\n",
        "x4, y4 = map(int,input(\"\\nEnter (x4, y4) : \").split())"
      ]
    },
    {
      "cell_type": "code",
      "source": [
        "import matplotlib.pyplot as plt\n",
        "\n",
        "def show(x,y):\n",
        "  plt.scatter(x, y)\n",
        "  plt.show()"
      ],
      "metadata": {
        "id": "r80bz6znf_WA"
      },
      "execution_count": 373,
      "outputs": []
    },
    {
      "cell_type": "code",
      "source": [
        "co_ordinate = [[x1, y1], [x2, y2], [x3, y3], [x4, y4]]\n",
        "\n",
        "X = [x1, x2, x3, x4, x1]\n",
        "Y = [y1, y2, y3, y4, y1]\n",
        "\n",
        "show(X, Y)"
      ],
      "metadata": {
        "colab": {
          "base_uri": "https://localhost:8080/",
          "height": 265
        },
        "id": "krYCvaJtTAyL",
        "outputId": "20e2451f-108b-47ad-ca91-95f17472e2ca"
      },
      "execution_count": 374,
      "outputs": [
        {
          "output_type": "display_data",
          "data": {
            "text/plain": [
              "<Figure size 432x288 with 1 Axes>"
            ],
            "image/png": "[encoded data removed]"
          },
          "metadata": {
            "needs_background": "light"
          }
        }
      ]
    },
    {
      "cell_type": "code",
      "source": [
        "# get N \n",
        "\n",
        "n = int(input(\"Get N random points in 2D space\"))"
      ],
      "metadata": {
        "colab": {
          "base_uri": "https://localhost:8080/"
        },
        "id": "m5H4FvuaSd3d",
        "outputId": "599ac122-9a1c-42a1-f1fc-8c580e49972d"
      },
      "execution_count": 375,
      "outputs": [
        {
          "name": "stdout",
          "output_type": "stream",
          "text": [
            "Get N random points in 2D space100\n"
          ]
        }
      ]
    },
    {
      "cell_type": "code",
      "source": [
        "# pre calculation to find the boundary co ordinates\n",
        "\n",
        "X.sort()\n",
        "Y.sort()\n",
        "\n",
        "X1 = X[0]\n",
        "Y1 = Y[0]\n",
        "\n",
        "for kk in range(4):\n",
        "  if (X1 == co_ordinate[kk][0]) and (Y1 < co_ordinate[kk][1]):\n",
        "    X4, Y4 = co_ordinate[kk][0], co_ordinate[kk][1]\n",
        "    break\n",
        "\n",
        "for kk in range(4):\n",
        "  if (X1 < co_ordinate[kk][0]) and (Y1 == co_ordinate[kk][1]):\n",
        "    X2, Y2 = co_ordinate[kk][0], co_ordinate[kk][1]\n",
        "    break\n",
        "\n",
        "xd = (X2 - X1)/4\n",
        "yd = (Y4 - Y1)/2\n",
        "\n",
        "sections = []\n",
        "\n",
        "tempx = 0\n",
        "tempy = 0"
      ],
      "metadata": {
        "id": "0k6KZxZDeJAH"
      },
      "execution_count": 376,
      "outputs": []
    },
    {
      "cell_type": "code",
      "source": [
        "# get N random points which were inside the retectangle\n",
        "\n",
        "import random\n",
        "\n",
        "points = [(random.uniform(X1, X2), random.uniform(Y1, Y4)) for i in range(n)]"
      ],
      "metadata": {
        "id": "iFOXpuHQS4IX"
      },
      "execution_count": 377,
      "outputs": []
    },
    {
      "cell_type": "code",
      "source": [
        "# Find the boundary points of the 8 equal sections\n",
        "\n",
        "def create_sections(x, y, xd, yd):\n",
        "  sections = []\n",
        "  XX = []\n",
        "  YY = []\n",
        "  for j in range(3):\n",
        "    for i in range(5):\n",
        "      if j == 0:\n",
        "        tempy = Y1\n",
        "        tempx = X1 + i * xd\n",
        "      else:\n",
        "        tempy = Y1 + j * yd\n",
        "        tempx = (X1 + i * xd)\n",
        "    \n",
        "      XX.append(tempx)\n",
        "      YY.append(tempy)\n",
        "      sections.append([tempx, tempy])\n",
        "\n",
        "      tempx = 0\n",
        "      tempy = 0\n",
        "  show(XX,YY)\n",
        "  return sections"
      ],
      "metadata": {
        "id": "caH6LXGWdwZI"
      },
      "execution_count": 378,
      "outputs": []
    },
    {
      "cell_type": "code",
      "source": [
        "# Count the points which lies in each section\n",
        "\n",
        "def count_points_in_sections(points, sections):\n",
        "    counts = [0] * 8\n",
        "    for x, y in points:\n",
        "        for i, section in enumerate(sections):\n",
        "            if x >= section[0][0] and x <= section[1][0] and y >= section[0][1] and y <= section[2][1]:\n",
        "                counts[i] += 1\n",
        "    return counts"
      ],
      "metadata": {
        "id": "b_6aNWR5lQ9g"
      },
      "execution_count": 379,
      "outputs": []
    },
    {
      "cell_type": "code",
      "source": [
        "# calculate the probability of points getting into each sections of the rectangle\n",
        "\n",
        "def calculate_probabilities(counts, n):\n",
        "    return [ int((count / n) * 100) for count in counts]"
      ],
      "metadata": {
        "id": "uKPMEpQRvaEY"
      },
      "execution_count": 380,
      "outputs": []
    },
    {
      "cell_type": "code",
      "source": [
        "# create boundary for 8 equal sections and plot the co ordinate points\n",
        "\n",
        "sections = create_sections(X1, Y1, xd, yd)"
      ],
      "metadata": {
        "colab": {
          "base_uri": "https://localhost:8080/",
          "height": 265
        },
        "id": "XKtkOg1ifl51",
        "outputId": "29346b3f-1d76-41f0-fecc-4818074bb784"
      },
      "execution_count": 381,
      "outputs": [
        {
          "output_type": "display_data",
          "data": {
            "text/plain": [
              "<Figure size 432x288 with 1 Axes>"
            ],
            "image/png": "[encoded data removed]"
          },
          "metadata": {
            "needs_background": "light"
          }
        }
      ]
    },
    {
      "cell_type": "code",
      "source": [
        "# seperate each sections co ordinate points for p1, p2, p3, p4, p5, p6, p7, p8\n",
        "\n",
        "section_boundary = []\n",
        "\n",
        "for k in range(9):\n",
        "  if k != 4:\n",
        "    section_boundary.append([sections[k],sections[k+1],sections[k+5],sections[k+6]])"
      ],
      "metadata": {
        "id": "nC3TvL7cl1mx"
      },
      "execution_count": 382,
      "outputs": []
    },
    {
      "cell_type": "code",
      "source": [
        "# count the total number of points generated randomly that lie in each section\n",
        "\n",
        "counts = count_points_in_sections(points, section_boundary)\n",
        "\n",
        "print(\"\\nThe total number of points generated randomly that lie in each section\\n\")\n",
        "for i, count in enumerate(counts):\n",
        "  print('p'+str(i+1)+': {},'.format(count), end = ' ')"
      ],
      "metadata": {
        "colab": {
          "base_uri": "https://localhost:8080/"
        },
        "id": "qc7mrlH6lZG2",
        "outputId": "7fc0a88f-03a7-45da-b2fd-55aa8ef86da3"
      },
      "execution_count": 383,
      "outputs": [
        {
          "output_type": "stream",
          "name": "stdout",
          "text": [
            "\n",
            "The total number of points generated randomly that lie in each section\n",
            "\n",
            "p1: 14, p2: 13, p3: 11, p4: 12, p5: 16, p6: 13, p7: 8, p8: 13, "
          ]
        }
      ]
    },
    {
      "cell_type": "code",
      "source": [
        "# probabilities of the points getting into each sections of the rectangle\n",
        "\n",
        "probabilities = calculate_probabilities(counts, n)\n",
        "\n",
        "print(\"\\nThe probabilities\\n\")\n",
        "\n",
        "for i, probability in enumerate(probabilities):\n",
        "  print('p'+str(i+1)+': {},'.format(probability), end = ' ')"
      ],
      "metadata": {
        "colab": {
          "base_uri": "https://localhost:8080/"
        },
        "id": "qQip5XLTvbnB",
        "outputId": "ff4f8b6f-eb04-406f-93b3-f7e66c675276"
      },
      "execution_count": 384,
      "outputs": [
        {
          "output_type": "stream",
          "name": "stdout",
          "text": [
            "\n",
            "The probabilities\n",
            "\n",
            "p1: 14, p2: 13, p3: 11, p4: 12, p5: 16, p6: 13, p7: 8, p8: 13, "
          ]
        }
      ]
    }
  ]
}